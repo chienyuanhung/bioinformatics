{
 "cells": [
  {
   "cell_type": "code",
   "execution_count": null,
   "metadata": {},
   "outputs": [],
   "source": [
    "def DeBruijn(text, k)\n",
    "    ol = {}\n",
    "    key = []\n",
    "    value = []\n",
    "    tlen = len(text)\n",
    "    for i in range(tlen -k):\n",
    "        key.append(text[i : i +k-1])\n",
    "    for m in keys:\n",
    "        for j in range(1, tlen-k+2): \n",
    "            if m == \n",
    "        "
   ]
  },
  {
   "cell_type": "code",
   "execution_count": 6,
   "metadata": {},
   "outputs": [],
   "source": [
    "text = 'AAGATTCTCTAAGA'\n",
    "tlen = len(text)\n",
    "k = 4\n",
    "key = []\n",
    "for i in range(tlen -k + 1):\n",
    "    key.append(text[i : i +k-1])"
   ]
  },
  {
   "cell_type": "code",
   "execution_count": 7,
   "metadata": {},
   "outputs": [
    {
     "data": {
      "text/plain": [
       "['AAG', 'AGA', 'GAT', 'ATT', 'TTC', 'TCT', 'CTC', 'TCT', 'CTA', 'TAA', 'AAG']"
      ]
     },
     "execution_count": 7,
     "metadata": {},
     "output_type": "execute_result"
    }
   ],
   "source": [
    "key"
   ]
  },
  {
   "cell_type": "code",
   "execution_count": 10,
   "metadata": {},
   "outputs": [
    {
     "data": {
      "text/plain": [
       "['AGA', 'GAT', 'ATT', 'TTC', 'TCT', 'CTC', 'TCT', 'CTA', 'TAA', 'AAG', 'AGA']"
      ]
     },
     "execution_count": 10,
     "metadata": {},
     "output_type": "execute_result"
    }
   ],
   "source": [
    "value = []\n",
    "for i in range(1,  tlen -k + 2):\n",
    "    value.append(text[i : i +k-1])\n",
    "value"
   ]
  },
  {
   "cell_type": "code",
   "execution_count": 12,
   "metadata": {},
   "outputs": [
    {
     "data": {
      "text/plain": [
       "{'AAG': [],\n",
       " 'AGA': [],\n",
       " 'GAT': [],\n",
       " 'ATT': [],\n",
       " 'TTC': [],\n",
       " 'TCT': [],\n",
       " 'CTC': [],\n",
       " 'CTA': [],\n",
       " 'TAA': []}"
      ]
     },
     "execution_count": 12,
     "metadata": {},
     "output_type": "execute_result"
    }
   ],
   "source": [
    "ol = {}\n",
    "for m in key:\n",
    "    ol[m] = []\n",
    "    \n",
    "ol"
   ]
  },
  {
   "cell_type": "code",
   "execution_count": 13,
   "metadata": {},
   "outputs": [
    {
     "data": {
      "text/plain": [
       "{'AAG': ['AGA', 'AGA'],\n",
       " 'AGA': ['GAT'],\n",
       " 'GAT': ['ATT'],\n",
       " 'ATT': ['TTC'],\n",
       " 'TTC': ['TCT'],\n",
       " 'TCT': ['CTC', 'CTA'],\n",
       " 'CTC': ['TCT'],\n",
       " 'CTA': ['TAA'],\n",
       " 'TAA': ['AAG']}"
      ]
     },
     "execution_count": 13,
     "metadata": {},
     "output_type": "execute_result"
    }
   ],
   "source": [
    "for m, n in zip(key, value):\n",
    "    ol[m].append(n)\n",
    "\n",
    "ol"
   ]
  },
  {
   "cell_type": "code",
   "execution_count": 20,
   "metadata": {},
   "outputs": [
    {
     "data": {
      "text/plain": [
       "'AGA,AGA'"
      ]
     },
     "execution_count": 20,
     "metadata": {},
     "output_type": "execute_result"
    }
   ],
   "source": [
    "out = ','.join(ol['AAG'])\n",
    "out"
   ]
  },
  {
   "cell_type": "code",
   "execution_count": 25,
   "metadata": {},
   "outputs": [],
   "source": [
    "keys = [key for key in ol.keys()]\n",
    "keys.sort()"
   ]
  },
  {
   "cell_type": "code",
   "execution_count": null,
   "metadata": {},
   "outputs": [],
   "source": [
    "c = DeBruijn(text, k)\n",
    "output = open(\"debrujin_out.txt\",'w')\n",
    "for i in c:\n",
    "    if c[i]:\n",
    "        output.writelines(i +' -> ' + c[i][0] + '\\n')"
   ]
  },
  {
   "cell_type": "code",
   "execution_count": 26,
   "metadata": {},
   "outputs": [
    {
     "data": {
      "text/plain": [
       "['AAG', 'AGA', 'ATT', 'CTA', 'CTC', 'GAT', 'TAA', 'TCT', 'TTC']"
      ]
     },
     "execution_count": 26,
     "metadata": {},
     "output_type": "execute_result"
    }
   ],
   "source": [
    "keys"
   ]
  },
  {
   "cell_type": "code",
   "execution_count": 31,
   "metadata": {},
   "outputs": [],
   "source": [
    "text = 'AAGATTCTCTAAGA'\n",
    "tlen = len(text)\n",
    "k = 4\n",
    "t_list = []\n",
    "for i in range(tlen-k+1):\n",
    "    t_list.append((text[i:i+k-1], text[i+1: i+k]))"
   ]
  },
  {
   "cell_type": "code",
   "execution_count": 32,
   "metadata": {
    "scrolled": true
   },
   "outputs": [
    {
     "data": {
      "text/plain": [
       "[('AAG', 'AGA'),\n",
       " ('AGA', 'GAT'),\n",
       " ('GAT', 'ATT'),\n",
       " ('ATT', 'TTC'),\n",
       " ('TTC', 'TCT'),\n",
       " ('TCT', 'CTC'),\n",
       " ('CTC', 'TCT'),\n",
       " ('TCT', 'CTA'),\n",
       " ('CTA', 'TAA'),\n",
       " ('TAA', 'AAG'),\n",
       " ('AAG', 'AGA')]"
      ]
     },
     "execution_count": 32,
     "metadata": {},
     "output_type": "execute_result"
    }
   ],
   "source": [
    "t_list"
   ]
  },
  {
   "cell_type": "code",
   "execution_count": 33,
   "metadata": {},
   "outputs": [],
   "source": [
    "from collections import defaultdict\n",
    "d = defaultdict(list)\n",
    "for k, v in t_list:\n",
    "    d[k].append(v)"
   ]
  },
  {
   "cell_type": "code",
   "execution_count": 34,
   "metadata": {},
   "outputs": [
    {
     "data": {
      "text/plain": [
       "defaultdict(list,\n",
       "            {'AAG': ['AGA', 'AGA'],\n",
       "             'AGA': ['GAT'],\n",
       "             'GAT': ['ATT'],\n",
       "             'ATT': ['TTC'],\n",
       "             'TTC': ['TCT'],\n",
       "             'TCT': ['CTC', 'CTA'],\n",
       "             'CTC': ['TCT'],\n",
       "             'CTA': ['TAA'],\n",
       "             'TAA': ['AAG']})"
      ]
     },
     "execution_count": 34,
     "metadata": {},
     "output_type": "execute_result"
    }
   ],
   "source": [
    "d"
   ]
  },
  {
   "cell_type": "code",
   "execution_count": 41,
   "metadata": {},
   "outputs": [],
   "source": [
    "def DeBruijn(text, k):\n",
    "    tlen = len(text)\n",
    "    t_list = []\n",
    "    for i in range(tlen-k+1):\n",
    "        t_list.append((text[i:i+k-1], text[i+1: i+k]))\n",
    "    d = defaultdict(list)\n",
    "    for k, v in t_list:\n",
    "        d[k].append(v)\n",
    "    return d"
   ]
  },
  {
   "cell_type": "code",
   "execution_count": 42,
   "metadata": {},
   "outputs": [
    {
     "data": {
      "text/plain": [
       "defaultdict(list,\n",
       "            {'AAG': ['AGA', 'AGA'],\n",
       "             'AGA': ['GAT'],\n",
       "             'GAT': ['ATT'],\n",
       "             'ATT': ['TTC'],\n",
       "             'TTC': ['TCT'],\n",
       "             'TCT': ['CTC', 'CTA'],\n",
       "             'CTC': ['TCT'],\n",
       "             'CTA': ['TAA'],\n",
       "             'TAA': ['AAG']})"
      ]
     },
     "execution_count": 42,
     "metadata": {},
     "output_type": "execute_result"
    }
   ],
   "source": [
    "text = 'AAGATTCTCTAAGA'\n",
    "tlen = len(text)\n",
    "k = 4\n",
    "d = DeBruijn(text, k)\n",
    "d"
   ]
  },
  {
   "cell_type": "code",
   "execution_count": 43,
   "metadata": {},
   "outputs": [],
   "source": [
    "c = DeBruijn(text, k)\n",
    "output = open(\"debrujin_out.txt\",'w')\n",
    "keys = [key for key in c.keys()]\n",
    "keys.sort()\n",
    "for i in keys:   \n",
    "    if c[i]:\n",
    "        out = ','.join(c[i])\n",
    "        output.writelines(i +' -> ' + out + '\\n')\n"
   ]
  },
  {
   "cell_type": "code",
   "execution_count": 53,
   "metadata": {},
   "outputs": [],
   "source": [
    "def DeBruijnP(patterns):\n",
    "    nodes = []\n",
    "    rela = {}\n",
    "    plen = len(patterns[0])\n",
    "    for pattern in patterns: \n",
    "        nodes.append(pattern[0: plen-1])\n",
    "        nodes.append(pattern[1: plen])\n",
    "    snodes = set(nodes)\n",
    "    for i in snodes:\n",
    "        rela[i] = []\n",
    "        for j in patterns:\n",
    "            if i == j[0:plen-1]:\n",
    "                rela[i].append(j[1:plen])\n",
    "    return rela\n",
    "        \n",
    "        \n",
    "        \n",
    "        "
   ]
  },
  {
   "cell_type": "code",
   "execution_count": 51,
   "metadata": {},
   "outputs": [
    {
     "data": {
      "text/plain": [
       "{1, 2, 3, 4, 5, 6}"
      ]
     },
     "execution_count": 51,
     "metadata": {},
     "output_type": "execute_result"
    }
   ],
   "source": [
    "node = [1, 2, 4, 5, 6, 3, 1, 4, 1, 1, 1]\n",
    "snode = set(node)\n",
    "snode"
   ]
  },
  {
   "cell_type": "code",
   "execution_count": 54,
   "metadata": {},
   "outputs": [
    {
     "data": {
      "text/plain": [
       "{'GGG': ['GGG', 'GGA'],\n",
       " 'CAG': ['AGG', 'AGG'],\n",
       " 'AGG': ['GGG'],\n",
       " 'GAG': ['AGG'],\n",
       " 'GGA': ['GAG']}"
      ]
     },
     "execution_count": 54,
     "metadata": {},
     "output_type": "execute_result"
    }
   ],
   "source": [
    "patterns = ['GAGG','CAGG','GGGG','GGGA','CAGG','AGGG','GGAG']\n",
    "c = DeBruijnP(patterns)\n",
    "c"
   ]
  },
  {
   "cell_type": "code",
   "execution_count": null,
   "metadata": {},
   "outputs": [],
   "source": []
  }
 ],
 "metadata": {
  "kernelspec": {
   "display_name": "Python [conda env:PythonData] *",
   "language": "python",
   "name": "conda-env-PythonData-py"
  },
  "language_info": {
   "codemirror_mode": {
    "name": "ipython",
    "version": 3
   },
   "file_extension": ".py",
   "mimetype": "text/x-python",
   "name": "python",
   "nbconvert_exporter": "python",
   "pygments_lexer": "ipython3",
   "version": "3.6.8"
  }
 },
 "nbformat": 4,
 "nbformat_minor": 2
}
