{
 "cells": [
  {
   "cell_type": "code",
   "execution_count": 34,
   "metadata": {},
   "outputs": [],
   "source": [
    "# score function to evaluate motif \n",
    "def Score(Motif):\n",
    "    a = len(Motif)\n",
    "    b = len(Motif[0])\n",
    "    count = 0\n",
    "    for i in range(b):\n",
    "        countA = 0\n",
    "        countC = 0\n",
    "        countG = 0\n",
    "        countT = 0\n",
    "        for j in range(a):\n",
    "            if Motif[j][i] == 'A':\n",
    "                countA += 1\n",
    "            elif Motif[j][i] == 'C':\n",
    "                countC += 1\n",
    "            elif Motif[j][i] == 'G':\n",
    "                countG += 1\n",
    "            elif Motif[j][i] == 'T':\n",
    "                countT += 1\n",
    "        count = count+ countA + countC + countG + countT - max(countA, countC, countG, countT)\n",
    "    return count\n",
    "\n",
    "# profile functions: get the probability profile for motifs\n",
    "def profile(motif):\n",
    "    a = len(motif)\n",
    "    b = len(motif[0])\n",
    "    prob = {'A': [0]*b, 'C': [0]*b, 'G': [0]*b, 'T': [0]*b} \n",
    "    for i in range(b):\n",
    "        countA = 0\n",
    "        countC = 0\n",
    "        countG = 0\n",
    "        countT = 0\n",
    "        for m in range(a):\n",
    "            if motif[m][i] == 'A':\n",
    "                countA += 1\n",
    "            elif motif[m][i] == 'C':\n",
    "                countC += 1\n",
    "            elif motif[m][i] == 'G':\n",
    "                countG += 1\n",
    "            elif motif[m][i] == 'T':\n",
    "                countT += 1\n",
    "        sum_count = countA + countC+ countG+ countT\n",
    "        prob['A'][i] = countA/sum_count\n",
    "        prob['C'][i] = countC/sum_count\n",
    "        prob['G'][i] = countG/sum_count\n",
    "        prob['T'][i] = countT/sum_count\n",
    "    return prob\n",
    "\n",
    "# modified profile functions with Laplace rule: get the probability profile for motifs, add pseodocount\n",
    "def modified_profile(motif, pseudocount):\n",
    "    a = len(motif)\n",
    "    b = len(motif[0])\n",
    "    prob = {'A': [0]*b, 'C': [0]*b, 'G': [0]*b, 'T': [0]*b} \n",
    "    for i in range(b):\n",
    "        countA = pseudocount\n",
    "        countC = pseudocount\n",
    "        countG = pseudocount\n",
    "        countT = pseudocount\n",
    "        for j in range(a):\n",
    "            if motif[j][i] == 'A':\n",
    "                countA += 1\n",
    "            elif motif[j][i] == 'C':\n",
    "                countC += 1\n",
    "            elif motif[j][i] == 'G':\n",
    "                countG += 1\n",
    "            elif motif[j][i] == 'T':\n",
    "                countT += 1\n",
    "        sum_count = countA + countC+ countG+ countT\n",
    "        prob['A'][i] = countA/sum_count\n",
    "        prob['C'][i] = countC/sum_count\n",
    "        prob['G'][i] = countG/sum_count\n",
    "        prob['T'][i] = countT/sum_count\n",
    "    return prob\n",
    "\n",
    "# funcitions return the most probable kmer according to the profile\n",
    "def ProfileMostProbableKmer(text, k, profile):\n",
    "    final = 0\n",
    "    a = len(text)\n",
    "    final_text = text[:k]\n",
    "    for i in range(a-k+1):\n",
    "        prob = 1\n",
    "        pattern = text[i:i+k]\n",
    "        for j in range(k):\n",
    "            if pattern[j] == 'A':\n",
    "                prob = prob * profile['A'][j]\n",
    "            elif pattern[j] == 'C':\n",
    "                prob = prob * profile['C'][j]\n",
    "            elif pattern[j] == 'G':\n",
    "                prob = prob * profile['G'][j]\n",
    "            elif pattern[j] == 'T':\n",
    "                prob = prob * profile['T'][j]\n",
    "        if prob > final:\n",
    "            final = prob\n",
    "            final_text= text[i: i+k]\n",
    "    return final_text "
   ]
  },
  {
   "cell_type": "code",
   "execution_count": 9,
   "metadata": {},
   "outputs": [
    {
     "data": {
      "text/plain": [
       "3"
      ]
     },
     "execution_count": 9,
     "metadata": {},
     "output_type": "execute_result"
    }
   ],
   "source": [
    "import random\n"
   ]
  },
  {
   "cell_type": "code",
   "execution_count": 30,
   "metadata": {},
   "outputs": [],
   "source": [
    "# randomlty generate motif from each DNA sequence\n",
    "def gen_motifs(Dna, k):\n",
    "    a = len(Dna[1])\n",
    "    motifs = []\n",
    "    for i in Dna:\n",
    "        b = random.randint(0, a-k)\n",
    "        motif = i[b: b+k]\n",
    "        motifs.append(motif)\n",
    "    return motifs\n",
    "\n",
    "def motifs_from_profile(dna, k, profile):\n",
    "    motifs = []\n",
    "    for i in dna:\n",
    "        motif = ProfileMostProbableKmer(i, k, profile)\n",
    "        motifs.append(motif)\n",
    "    return motifs"
   ]
  },
  {
   "cell_type": "code",
   "execution_count": 83,
   "metadata": {},
   "outputs": [],
   "source": [
    "dna = ['CGCCCCTCTCGGGGGTGTTCAGTAAACGGCCA',\n",
    "'GGGCGAGGTATGTGTAAGTGCCAAGGTGCCAG',\n",
    "'TAGTACCGAGACCGAAAGAAGTATACAGGCGT',\n",
    "'TAGATCAAGTTTCAGGTGCACGTCGGTGAACC',\n",
    "'AATCCACCAGCTCCACGTGCAATGTTGGCCTA']\n"
   ]
  },
  {
   "cell_type": "code",
   "execution_count": 37,
   "metadata": {},
   "outputs": [
    {
     "data": {
      "text/plain": [
       "['TTCAGTAA', 'CGAGGTAT', 'CCGAAAGA', 'AGGTGCAC', 'CTCCACGT']"
      ]
     },
     "execution_count": 37,
     "metadata": {},
     "output_type": "execute_result"
    }
   ],
   "source": [
    "motifs = gen_motif(dna, 8)\n",
    "motifs"
   ]
  },
  {
   "cell_type": "code",
   "execution_count": 38,
   "metadata": {},
   "outputs": [],
   "source": [
    "new_profile = modified_profile(motifs, 1)"
   ]
  },
  {
   "cell_type": "code",
   "execution_count": 39,
   "metadata": {},
   "outputs": [
    {
     "data": {
      "text/plain": [
       "['TTCAGTAA', 'CGAGGTAT', 'AGAAGTAT', 'CGGTGAAC', 'CTCCACGT']"
      ]
     },
     "execution_count": 39,
     "metadata": {},
     "output_type": "execute_result"
    }
   ],
   "source": [
    "motifs_from_profile(dna, 8, new_profile)"
   ]
  },
  {
   "cell_type": "code",
   "execution_count": 90,
   "metadata": {},
   "outputs": [],
   "source": [
    "\n",
    "def RandomizedMotifSearch_in(Dna, k, t):\n",
    "    motifs = gen_motif(Dna, k)\n",
    "    best_motifs = gen_motif(Dna, k)\n",
    "    while True:\n",
    "        new_profile = modified_profile(motifs,1)\n",
    "        motifs = motifs_from_profile(Dna, k, new_profile)\n",
    "        if Score(motifs) < Score(best_motifs):\n",
    "            best_motifs = motifs\n",
    "        else:\n",
    "            return best_motifs\n",
    "        \n",
    "        \n",
    "    "
   ]
  },
  {
   "cell_type": "code",
   "execution_count": 64,
   "metadata": {},
   "outputs": [
    {
     "data": {
      "text/plain": [
       "['TAAACGGC', 'CAAGGTGC', 'AGTACCGA', 'CACGTCGG', 'AATGTTGG']"
      ]
     },
     "execution_count": 64,
     "metadata": {},
     "output_type": "execute_result"
    }
   ],
   "source": [
    "RandomizedMotifSearch(dna, 8, 5)"
   ]
  },
  {
   "cell_type": "code",
   "execution_count": 84,
   "metadata": {},
   "outputs": [
    {
     "data": {
      "text/plain": [
       "['TCTCGGGG', 'CCAAGGTG', 'TACAGGCG', 'TTCAGGTG', 'TCCACGTG']"
      ]
     },
     "execution_count": 84,
     "metadata": {},
     "output_type": "execute_result"
    }
   ],
   "source": [
    "M = RandomizedMotifSearch(dna, 8, 5)\n",
    "bMotifs = M\n",
    "N = 1000\n",
    "for i in range(N+1):\n",
    "    M = RandomizedMotifSearch(dna, 8, 5)\n",
    "    if Score(M) < Score(bMotifs):\n",
    "         bMotifs = M\n",
    "    else:\n",
    "        bestMotifs = bMotifs\n",
    "        \n",
    "bestMotifs"
   ]
  },
  {
   "cell_type": "code",
   "execution_count": 91,
   "metadata": {},
   "outputs": [],
   "source": [
    "def RandomizedMotifSearch(dna, k, t):\n",
    "    M = RandomizedMotifSearch_in(dna, k, t)\n",
    "    bMotifs = M\n",
    "    N = 1000\n",
    "    for i in range(N+1):\n",
    "        M = RandomizedMotifSearch_in(dna, k, t)\n",
    "        if Score(M) < Score(bMotifs):\n",
    "            bMotifs = M\n",
    "        else:\n",
    "            bestMotifs = bMotifs\n",
    "    return bestMotifs"
   ]
  },
  {
   "cell_type": "code",
   "execution_count": null,
   "metadata": {},
   "outputs": [],
   "source": [
    "RandomizedMotifSearch_all(dna, 8, 5)"
   ]
  },
  {
   "cell_type": "code",
   "execution_count": null,
   "metadata": {},
   "outputs": [],
   "source": []
  }
 ],
 "metadata": {
  "kernelspec": {
   "display_name": "Python [conda env:PythonData] *",
   "language": "python",
   "name": "conda-env-PythonData-py"
  },
  "language_info": {
   "codemirror_mode": {
    "name": "ipython",
    "version": 3
   },
   "file_extension": ".py",
   "mimetype": "text/x-python",
   "name": "python",
   "nbconvert_exporter": "python",
   "pygments_lexer": "ipython3",
   "version": "3.6.8"
  }
 },
 "nbformat": 4,
 "nbformat_minor": 2
}
