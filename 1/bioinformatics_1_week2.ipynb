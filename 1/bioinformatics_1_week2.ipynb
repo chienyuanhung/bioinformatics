{
 "cells": [
  {
   "cell_type": "code",
   "execution_count": 2,
   "metadata": {},
   "outputs": [],
   "source": [
    "def Skew(genome):\n",
    "    a = len(genome)\n",
    "    output = [0]\n",
    "    ini = 0\n",
    "    for i in range(a):\n",
    "        if genome[i] == 'C':\n",
    "            ini -= 1\n",
    "            output.append(ini)\n",
    "        elif genome[i] == 'G':\n",
    "            ini += 1\n",
    "            output.append(ini)\n",
    "        else:\n",
    "            output.append(ini)\n",
    "    return output"
   ]
  },
  {
   "cell_type": "code",
   "execution_count": 3,
   "metadata": {},
   "outputs": [
    {
     "name": "stdout",
     "output_type": "stream",
     "text": [
      "0 1 1 2 1 0 0 -1 -2 -1 -2 -1 -1 -1 -1\n"
     ]
    }
   ],
   "source": [
    "c_list = Skew('GAGCCACCGCGATA')\n",
    "print(*c_list, sep=' ')"
   ]
  },
  {
   "cell_type": "code",
   "execution_count": 4,
   "metadata": {},
   "outputs": [],
   "source": [
    "# find the position of skew minimun\n",
    "\n",
    "def MinimumSkew(Genome):\n",
    "    a = len(Genome)\n",
    "    position = []\n",
    "    output = [0]\n",
    "    ini = 0\n",
    "    for i in range(a):\n",
    "        if Genome[i] == 'C':\n",
    "            ini -= 1\n",
    "            output.append(ini)\n",
    "        elif Genome[i] == 'G':\n",
    "            ini += 1\n",
    "            output.append(ini)\n",
    "        else:\n",
    "            output.append(ini)\n",
    "    min_o = min(output)\n",
    "    for i in range(len(output)):\n",
    "        if output[i] == min_o:\n",
    "            position.append(i)\n",
    "    return position\n",
    "    "
   ]
  },
  {
   "cell_type": "code",
   "execution_count": 5,
   "metadata": {},
   "outputs": [
    {
     "data": {
      "text/plain": [
       "[12]"
      ]
     },
     "execution_count": 5,
     "metadata": {},
     "output_type": "execute_result"
    }
   ],
   "source": [
    "MinimumSkew('GATACACTTCCCGAGTAGGTACTG')"
   ]
  },
  {
   "cell_type": "code",
   "execution_count": 8,
   "metadata": {},
   "outputs": [],
   "source": [
    "def HammingDistance(p, q):\n",
    "    a = len(p)\n",
    "    h_dist = 0\n",
    "    for i in range(a):\n",
    "        if p[i] != q[i]:\n",
    "            h_dist += 1\n",
    "    return h_dist "
   ]
  },
  {
   "cell_type": "code",
   "execution_count": 65,
   "metadata": {},
   "outputs": [
    {
     "data": {
      "text/plain": [
       "23"
      ]
     },
     "execution_count": 65,
     "metadata": {},
     "output_type": "execute_result"
    }
   ],
   "source": [
    "HammingDistance('CAGAAAGGAAGGTCCCCATACACCGACGCACCAGTTTA', 'CACGCCGTATGCATAAACGAGCCGCACGAACCAGAGAG')"
   ]
  },
  {
   "cell_type": "code",
   "execution_count": 29,
   "metadata": {},
   "outputs": [],
   "source": [
    "def ApproximatePatternMatching(Text, Pattern, d):\n",
    "    positions = []\n",
    "    m = len(Text)\n",
    "    n = len(Pattern)\n",
    "    for i in range(m-n+1):\n",
    "        if HammingDistance(Text[i: i+n], Pattern) <= d:\n",
    "            positions.append(i)\n",
    "    return positions"
   ]
  },
  {
   "cell_type": "code",
   "execution_count": 39,
   "metadata": {},
   "outputs": [],
   "source": [
    "def ApproximatePatternCount(Text, Pattern, d):\n",
    "    count = 0 \n",
    "    m = len(Text)\n",
    "    n = len(Pattern)\n",
    "    for i in range(m-n+1):\n",
    "        if HammingDistance(Text[i: i+n], Pattern) <= d:\n",
    "            count += 1\n",
    "    return count"
   ]
  },
  {
   "cell_type": "code",
   "execution_count": 67,
   "metadata": {},
   "outputs": [
    {
     "data": {
      "text/plain": [
       "15"
      ]
     },
     "execution_count": 67,
     "metadata": {},
     "output_type": "execute_result"
    }
   ],
   "source": [
    "ApproximatePatternCount('CATGCCATTCGCATTGTCCCAGTGA', 'CCC', 2)"
   ]
  },
  {
   "cell_type": "code",
   "execution_count": 12,
   "metadata": {},
   "outputs": [],
   "source": [
    "def Neighbors(Pattern, d):\n",
    "    if d == 0:\n",
    "        return [Pattern]\n",
    "    a = len(Pattern)\n",
    "    dna_set = ['A', 'C', 'G', 'T']\n",
    "    if a == 1:\n",
    "        return ['A', 'C', 'G', 'T']\n",
    "    Neighbor = []\n",
    "    new_patttern = Pattern[1:]\n",
    "    suffix_neighbors = Neighbors(new_patttern, d)\n",
    "    for i in suffix_neighbors: \n",
    "        if HammingDistance(new_patttern, i) < d:\n",
    "            for j in dna_set:\n",
    "                Neighbor.append(j+i)\n",
    "        else:\n",
    "            Neighbor.append(Pattern[0]+i)\n",
    "    return Neighbor"
   ]
  },
  {
   "cell_type": "code",
   "execution_count": 69,
   "metadata": {},
   "outputs": [
    {
     "data": {
      "text/plain": [
       "31"
      ]
     },
     "execution_count": 69,
     "metadata": {},
     "output_type": "execute_result"
    }
   ],
   "source": [
    "c_list = Neighbors('CCAGTCAATG', 1)\n",
    "len(c_list)"
   ]
  },
  {
   "cell_type": "code",
   "execution_count": 10,
   "metadata": {},
   "outputs": [],
   "source": [
    "def FrequentWordsWithMismatches(Text, k, d):\n",
    "    a = len(Text)\n",
    "    count = {}\n",
    "    most_fre_words = []\n",
    "    for i in range(a-k+1):\n",
    "        pattern = Text[i:i+k]\n",
    "        neighbor = Neighbors(pattern, d)\n",
    "        for j in neighbor:\n",
    "            if j in count:\n",
    "                count[j] += 1\n",
    "            else:\n",
    "                count[j] = 1\n",
    "    max_v = max(count.values())\n",
    "    for k in count:\n",
    "        if count[k] == max_v:\n",
    "            most_fre_words.append(k)\n",
    "    return most_fre_words"
   ]
  },
  {
   "cell_type": "code",
   "execution_count": 59,
   "metadata": {},
   "outputs": [],
   "source": [
    "def ReverseComplement(Pattern):\n",
    "    a = len(Pattern)\n",
    "    b = ['']*a\n",
    "    c = ''\n",
    "    for i in range(a):\n",
    "        if Pattern[i] == 'A':\n",
    "            b[a-i-1] = 'T'\n",
    "        elif Pattern[i] == 'T':\n",
    "            b[a-i-1] = 'A'\n",
    "        elif Pattern[i] == 'G':\n",
    "            b[a-i-1] = 'C'\n",
    "        elif Pattern[i] == 'C':\n",
    "            b[a-i-1] = 'G'\n",
    "    return c.join(b)"
   ]
  },
  {
   "cell_type": "code",
   "execution_count": 62,
   "metadata": {},
   "outputs": [],
   "source": [
    "def FrequentWordsWithMismatchesAndReverseComplements(text, k, d):\n",
    "    reverse = ReverseComplement(text)\n",
    "    a = len(text)\n",
    "    count = {}\n",
    "    most_fre_words = []\n",
    "    for i in range(a-k+1):\n",
    "        pattern = text[i:i+k]\n",
    "        neighbor = Neighbors(pattern, d)\n",
    "        for j in neighbor:\n",
    "            if j in count:\n",
    "                count[j] += 1\n",
    "            else:\n",
    "                count[j] = 1\n",
    "        pattern2 = reverse[i:i+k]\n",
    "        neighbor2 = Neighbors(pattern2, d)\n",
    "        for m in neighbor2:\n",
    "            if m in count:\n",
    "                count[m] += 1\n",
    "            else:\n",
    "                count[m] = 1\n",
    "    max_v = max(count.values())\n",
    "    for k in count:\n",
    "        if count[k] == max_v:\n",
    "            most_fre_words.append(k)\n",
    "    return most_fre_words"
   ]
  },
  {
   "cell_type": "code",
   "execution_count": 64,
   "metadata": {},
   "outputs": [
    {
     "data": {
      "text/plain": [
       "['GGGGGGG', 'CCCCCCC']"
      ]
     },
     "execution_count": 64,
     "metadata": {},
     "output_type": "execute_result"
    }
   ],
   "source": [
    "FrequentWordsWithMismatchesAndReverseComplements('GTTCGTAGTCGTGTAGAGGTAGGTCCGTTCCCTCGTGTAGGTCCAGCCGTCCCCTCTCAGTCTCGTTCCCGTTCCCAGGTGTAGCCCCGTTCTCTCTCCCCCGTAGGTGTGTCCGTCCTCGTGTTCGTTCAGCCTCAGCCTCGTGTGTCCCCTCTCTCGTGTTCCCTCGTGTCCAGAGCCTCGTCCTCGTAGGTGTCCTCTCAGGTCCTCTCTCGTCC', 7, 3)"
   ]
  },
  {
   "cell_type": "code",
   "execution_count": 13,
   "metadata": {},
   "outputs": [
    {
     "data": {
      "text/plain": [
       "['TTT', 'TTG']"
      ]
     },
     "execution_count": 13,
     "metadata": {},
     "output_type": "execute_result"
    }
   ],
   "source": [
    "FrequentWordsWithMismatches('ATTTGGC', 3, 1)"
   ]
  },
  {
   "cell_type": "code",
   "execution_count": null,
   "metadata": {},
   "outputs": [],
   "source": []
  }
 ],
 "metadata": {
  "kernelspec": {
   "display_name": "Python [conda env:PythonData] *",
   "language": "python",
   "name": "conda-env-PythonData-py"
  },
  "language_info": {
   "codemirror_mode": {
    "name": "ipython",
    "version": 3
   },
   "file_extension": ".py",
   "mimetype": "text/x-python",
   "name": "python",
   "nbconvert_exporter": "python",
   "pygments_lexer": "ipython3",
   "version": "3.6.8"
  }
 },
 "nbformat": 4,
 "nbformat_minor": 2
}
