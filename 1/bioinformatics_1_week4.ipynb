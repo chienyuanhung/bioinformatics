{
 "cells": [
  {
   "cell_type": "code",
   "execution_count": 34,
   "metadata": {},
   "outputs": [],
   "source": [
    "# score function to evaluate motif \n",
    "def Score(Motif):\n",
    "    a = len(Motif)\n",
    "    b = len(Motif[0])\n",
    "    count = 0\n",
    "    for i in range(b):\n",
    "        countA = 0\n",
    "        countC = 0\n",
    "        countG = 0\n",
    "        countT = 0\n",
    "        for j in range(a):\n",
    "            if Motif[j][i] == 'A':\n",
    "                countA += 1\n",
    "            elif Motif[j][i] == 'C':\n",
    "                countC += 1\n",
    "            elif Motif[j][i] == 'G':\n",
    "                countG += 1\n",
    "            elif Motif[j][i] == 'T':\n",
    "                countT += 1\n",
    "        count = count+ countA + countC + countG + countT - max(countA, countC, countG, countT)\n",
    "    return count\n",
    "\n",
    "# profile functions: get the probability profile for motifs\n",
    "def profile(motif):\n",
    "    a = len(motif)\n",
    "    b = len(motif[0])\n",
    "    prob = {'A': [0]*b, 'C': [0]*b, 'G': [0]*b, 'T': [0]*b} \n",
    "    for i in range(b):\n",
    "        countA = 0\n",
    "        countC = 0\n",
    "        countG = 0\n",
    "        countT = 0\n",
    "        for m in range(a):\n",
    "            if motif[m][i] == 'A':\n",
    "                countA += 1\n",
    "            elif motif[m][i] == 'C':\n",
    "                countC += 1\n",
    "            elif motif[m][i] == 'G':\n",
    "                countG += 1\n",
    "            elif motif[m][i] == 'T':\n",
    "                countT += 1\n",
    "        sum_count = countA + countC+ countG+ countT\n",
    "        prob['A'][i] = countA/sum_count\n",
    "        prob['C'][i] = countC/sum_count\n",
    "        prob['G'][i] = countG/sum_count\n",
    "        prob['T'][i] = countT/sum_count\n",
    "    return prob\n",
    "\n",
    "# modified profile functions with Laplace rule: get the probability profile for motifs, add pseodocount\n",
    "def modified_profile(motif, pseudocount):\n",
    "    a = len(motif)\n",
    "    b = len(motif[0])\n",
    "    prob = {'A': [0]*b, 'C': [0]*b, 'G': [0]*b, 'T': [0]*b} \n",
    "    for i in range(b):\n",
    "        countA = pseudocount\n",
    "        countC = pseudocount\n",
    "        countG = pseudocount\n",
    "        countT = pseudocount\n",
    "        for j in range(a):\n",
    "            if motif[j][i] == 'A':\n",
    "                countA += 1\n",
    "            elif motif[j][i] == 'C':\n",
    "                countC += 1\n",
    "            elif motif[j][i] == 'G':\n",
    "                countG += 1\n",
    "            elif motif[j][i] == 'T':\n",
    "                countT += 1\n",
    "        sum_count = countA + countC+ countG+ countT\n",
    "        prob['A'][i] = countA/sum_count\n",
    "        prob['C'][i] = countC/sum_count\n",
    "        prob['G'][i] = countG/sum_count\n",
    "        prob['T'][i] = countT/sum_count\n",
    "    return prob\n",
    "\n",
    "# funcitions return the most probable kmer according to the profile\n",
    "def ProfileMostProbableKmer(text, k, profile):\n",
    "    final = 0\n",
    "    a = len(text)\n",
    "    final_text = text[:k]\n",
    "    for i in range(a-k+1):\n",
    "        prob = 1\n",
    "        pattern = text[i:i+k]\n",
    "        for j in range(k):\n",
    "            if pattern[j] == 'A':\n",
    "                prob = prob * profile['A'][j]\n",
    "            elif pattern[j] == 'C':\n",
    "                prob = prob * profile['C'][j]\n",
    "            elif pattern[j] == 'G':\n",
    "                prob = prob * profile['G'][j]\n",
    "            elif pattern[j] == 'T':\n",
    "                prob = prob * profile['T'][j]\n",
    "        if prob > final:\n",
    "            final = prob\n",
    "            final_text= text[i: i+k]\n",
    "    return final_text \n",
    "\n"
   ]
  },
  {
   "cell_type": "code",
   "execution_count": 104,
   "metadata": {},
   "outputs": [
    {
     "data": {
      "text/plain": [
       "1"
      ]
     },
     "execution_count": 104,
     "metadata": {},
     "output_type": "execute_result"
    }
   ],
   "source": [
    "import random\n",
    "random.randint(0, 5)\n"
   ]
  },
  {
   "cell_type": "code",
   "execution_count": 100,
   "metadata": {},
   "outputs": [
    {
     "data": {
      "text/plain": [
       "2"
      ]
     },
     "execution_count": 100,
     "metadata": {},
     "output_type": "execute_result"
    }
   ],
   "source": [
    "random.randint(0, 5)"
   ]
  },
  {
   "cell_type": "code",
   "execution_count": 30,
   "metadata": {},
   "outputs": [],
   "source": [
    "# randomlty generate motif from each DNA sequence\n",
    "def gen_motifs(Dna, k):\n",
    "    a = len(Dna[1])\n",
    "    motifs = []\n",
    "    for i in Dna:\n",
    "        b = random.randint(0, a-k)\n",
    "        motif = i[b: b+k]\n",
    "        motifs.append(motif)\n",
    "    return motifs\n",
    "\n",
    "def motifs_from_profile(dna, k, profile):\n",
    "    motifs = []\n",
    "    for i in dna:\n",
    "        motif = ProfileMostProbableKmer(i, k, profile)\n",
    "        motifs.append(motif)\n",
    "    return motifs\n",
    "\n"
   ]
  },
  {
   "cell_type": "code",
   "execution_count": 90,
   "metadata": {},
   "outputs": [],
   "source": [
    "def RandomizedMotifSearch(Dna, k, t):\n",
    "    motifs = gen_motifs(Dna, k)\n",
    "    best_motifs = gen_motifs(Dna, k)\n",
    "    while True:\n",
    "        new_profile = modified_profile(motifs,1)\n",
    "        motifs = motifs_from_profile(Dna, k, new_profile)\n",
    "        if Score(motifs) < Score(best_motifs):\n",
    "            best_motifs = motifs\n",
    "        else:\n",
    "            return best_motifs\n",
    "        \n",
    "        \n",
    "    "
   ]
  },
  {
   "cell_type": "code",
   "execution_count": 286,
   "metadata": {},
   "outputs": [],
   "source": [
    "dna = ['ATGAGGTC',\n",
    "'GCCCTAGA',\n",
    "'AAATAGAT',\n",
    "'TTGTGCTA']\n",
    "\n",
    "M = ['GTC',\n",
    "'CCC',\n",
    "'ATA',\n",
    "'GCT']"
   ]
  },
  {
   "cell_type": "code",
   "execution_count": 287,
   "metadata": {},
   "outputs": [
    {
     "data": {
      "text/plain": [
       "['GAG', 'TAG', 'TAG', 'TTG']"
      ]
     },
     "execution_count": 287,
     "metadata": {},
     "output_type": "execute_result"
    }
   ],
   "source": [
    "N = 1000\n",
    "for i in range(N+1):\n",
    "    M = RandomizedMotifSearch(dna, 3, 4)\n",
    "    if Score(M) < Score(bMotifs):\n",
    "         bMotifs = M\n",
    "    else:\n",
    "        bestMotifs = bMotifs\n",
    "        \n",
    "bestMotifs"
   ]
  },
  {
   "cell_type": "code",
   "execution_count": 84,
   "metadata": {},
   "outputs": [
    {
     "data": {
      "text/plain": [
       "['TCTCGGGG', 'CCAAGGTG', 'TACAGGCG', 'TTCAGGTG', 'TCCACGTG']"
      ]
     },
     "execution_count": 84,
     "metadata": {},
     "output_type": "execute_result"
    }
   ],
   "source": [
    "M = RandomizedMotifSearch(dna, 8, 5)\n",
    "bMotifs = M\n",
    "N = 1000\n",
    "for i in range(N+1):\n",
    "    M = RandomizedMotifSearch(dna, 8, 5)\n",
    "    if Score(M) < Score(bMotifs):\n",
    "         bMotifs = M\n",
    "    else:\n",
    "        bestMotifs = bMotifs\n",
    "        \n",
    "bestMotifs"
   ]
  },
  {
   "cell_type": "code",
   "execution_count": 97,
   "metadata": {},
   "outputs": [],
   "source": [
    "import sys        \n",
    "lines = sys.stdin.read().splitlines()       \n",
    "\n"
   ]
  },
  {
   "cell_type": "code",
   "execution_count": null,
   "metadata": {},
   "outputs": [],
   "source": [
    "k, t = map(int, lines[0].split(\" \"))\n",
    "Dna = []\n",
    "for i in range(1, len(lines)):\n",
    "    Dna.append(lines[i])\n",
    "    \n",
    "    "
   ]
  },
  {
   "cell_type": "code",
   "execution_count": 139,
   "metadata": {},
   "outputs": [],
   "source": [
    "def GibbsSampler(Dna, k, t, N):\n",
    "    motifs = gen_motifs(Dna, k)\n",
    "    best_motifs = motifs\n",
    "    for j in range(N):\n",
    "        i = random.randint(0, t-1)\n",
    "        item = motifs[i]\n",
    "        motifs.remove(item)\n",
    "        new_profile = modified_profile(motifs,1)\n",
    "        motif_prob = profile_prob(Dna[i], k, new_profile)\n",
    "        dice = random.random()\n",
    "        for m in range(len(motif_prob)-1):\n",
    "            new_motif = ''\n",
    "            if motif_prob[m] < dice and motif_prob[m+1] > dice:\n",
    "                new_motif = Dna[i][m: m+k]\n",
    "        motifs.insert(i, new_motif)\n",
    "        if Score(motifs) < Score(best_motifs):\n",
    "            best_motifs = motifs\n",
    "    return best_motifs"
   ]
  },
  {
   "cell_type": "code",
   "execution_count": 166,
   "metadata": {},
   "outputs": [],
   "source": [
    "def profile_prob(text, k, profile):\n",
    "    prob_list = []\n",
    "    a = len(text)\n",
    "    for i in range(a-k+1):\n",
    "        prob = 1\n",
    "        pattern = text[i:i+k]\n",
    "        for j in range(k):\n",
    "            if pattern[j] == 'A':\n",
    "                prob = prob * profile['A'][j]\n",
    "            elif pattern[j] == 'C':\n",
    "                prob = prob * profile['C'][j]\n",
    "            elif pattern[j] == 'G':\n",
    "                prob = prob * profile['G'][j]\n",
    "            elif pattern[j] == 'T':\n",
    "                prob = prob * profile['T'][j]\n",
    "        prob_list.append(prob)\n",
    "    prob_array = np.array(prob_list)/sum(prob_list)\n",
    "    prob_dice = [0]\n",
    "    sum_prob = 0\n",
    "    for i in prob_array:\n",
    "        sum_prob += i\n",
    "        prob_dice.append(sum_prob)\n",
    "    return prob_dice"
   ]
  },
  {
   "cell_type": "code",
   "execution_count": 110,
   "metadata": {},
   "outputs": [
    {
     "data": {
      "text/plain": [
       "10"
      ]
     },
     "execution_count": 110,
     "metadata": {},
     "output_type": "execute_result"
    }
   ],
   "source": [
    "import numpy as np\n",
    "ab = np.array([1, 2, 3, 4])\n",
    "sum(ab)"
   ]
  },
  {
   "cell_type": "code",
   "execution_count": 119,
   "metadata": {},
   "outputs": [],
   "source": [
    "dna = ['CGCCCCTCTCGGGGGTGTTCAGTAACCGGCCA',\n",
    "'GGGCGAGGTATGTGTAAGTGCCAAGGTGCCAG',\n",
    "'TAGTACCGAGACCGAAAGAAGTATACAGGCGT',\n",
    "'TAGATCAAGTTTCAGGTGCACGTCGGTGAACC',\n",
    "'AATCCACCAGCTCCACGTGCAATGTTGGCCTA']"
   ]
  },
  {
   "cell_type": "code",
   "execution_count": 155,
   "metadata": {},
   "outputs": [
    {
     "data": {
      "text/plain": [
       "['TTCAGTAA', 'CGAGGTAT', 'ACCGAAAG', 'CAGGTGCA', 'TGTTGGCC']"
      ]
     },
     "execution_count": 155,
     "metadata": {},
     "output_type": "execute_result"
    }
   ],
   "source": [
    "motifs = gen_motifs(dna, 8)\n",
    "motifs"
   ]
  },
  {
   "cell_type": "code",
   "execution_count": 156,
   "metadata": {},
   "outputs": [
    {
     "data": {
      "text/plain": [
       "'CAGGTGCA'"
      ]
     },
     "execution_count": 156,
     "metadata": {},
     "output_type": "execute_result"
    }
   ],
   "source": [
    "i = random.randint(0, 5)\n",
    "item = motifs[i]\n",
    "item"
   ]
  },
  {
   "cell_type": "code",
   "execution_count": 157,
   "metadata": {},
   "outputs": [],
   "source": [
    "temp_motifs = motifs.remove(item)\n",
    "temp_motifs"
   ]
  },
  {
   "cell_type": "code",
   "execution_count": 159,
   "metadata": {},
   "outputs": [
    {
     "data": {
      "text/plain": [
       "['TTCAGTAA', 'CGAGGTAT', 'ACCGAAAG', 'TGTTGGCC']"
      ]
     },
     "execution_count": 159,
     "metadata": {},
     "output_type": "execute_result"
    }
   ],
   "source": [
    "motifs"
   ]
  },
  {
   "cell_type": "code",
   "execution_count": 160,
   "metadata": {},
   "outputs": [
    {
     "data": {
      "text/plain": [
       "{'A': [0.25, 0.125, 0.25, 0.25, 0.25, 0.25, 0.5, 0.25],\n",
       " 'C': [0.25, 0.25, 0.375, 0.125, 0.125, 0.125, 0.25, 0.25],\n",
       " 'G': [0.125, 0.375, 0.125, 0.375, 0.5, 0.25, 0.125, 0.25],\n",
       " 'T': [0.375, 0.25, 0.25, 0.25, 0.125, 0.375, 0.125, 0.25]}"
      ]
     },
     "execution_count": 160,
     "metadata": {},
     "output_type": "execute_result"
    }
   ],
   "source": [
    "new_profile = modified_profile(motifs,1)\n",
    "new_profile"
   ]
  },
  {
   "cell_type": "code",
   "execution_count": 214,
   "metadata": {},
   "outputs": [],
   "source": [
    "def GibbsSampler(Dna, k, t, N):\n",
    "    motifs = gen_motifs(Dna, k)\n",
    "    best_motifs = motifs\n",
    "    for j in range(N):\n",
    "        i = random.randint(0, t-1)\n",
    "        item = motifs[i]\n",
    "        motifs.remove(item)\n",
    "        new_profile = modified_profile(motifs,1)\n",
    "        motif_prob = profile_prob(Dna[i], k, new_profile)\n",
    "        dice = random.random()\n",
    "        for m in range(len(motif_prob)-1):\n",
    "            new_motif = ''\n",
    "            if motif_prob[m+1] > dice :\n",
    "                new_motif = Dna[i][m: m+k]\n",
    "                break\n",
    "        motifs.insert(i, new_motif)\n",
    "        if Score(motifs) < Score(best_motifs):\n",
    "            best_motifs = motifs\n",
    "            print(best_motifs)\n",
    "    return best_motifs"
   ]
  },
  {
   "cell_type": "code",
   "execution_count": 241,
   "metadata": {},
   "outputs": [
    {
     "data": {
      "text/plain": [
       "['TGTTCAGT', 'AGTGCCAA', 'AGTACCGA', 'TAGATCAA', 'TCCACCAG']"
      ]
     },
     "execution_count": 241,
     "metadata": {},
     "output_type": "execute_result"
    }
   ],
   "source": [
    "GibbsSampler(dna, 8, 5, 1000)"
   ]
  },
  {
   "cell_type": "code",
   "execution_count": 249,
   "metadata": {},
   "outputs": [
    {
     "data": {
      "text/plain": [
       "['TCTCGGGG', 'CCAAGGTG', 'TACAGGCG', 'TTCAGGTG', 'TCCACGTG']"
      ]
     },
     "execution_count": 249,
     "metadata": {},
     "output_type": "execute_result"
    }
   ],
   "source": [
    "bMotifs = gen_motifs(dna, 5)\n",
    "N = 500\n",
    "for i in range(N+1):\n",
    "    M = GibbsSampler(dna, 8, 5, 100)\n",
    "    if Score(M) < Score(bMotifs):\n",
    "         bMotifs = M\n",
    "    else:\n",
    "        bestMotifs = bMotifs\n",
    "        \n",
    "bestMotifs"
   ]
  },
  {
   "cell_type": "code",
   "execution_count": 273,
   "metadata": {},
   "outputs": [
    {
     "data": {
      "text/plain": [
       "['TCTCGGGG', 'TGTAAGTG', 'TACAGGCG', 'TTCAGGTG', 'TCCACGTG']"
      ]
     },
     "execution_count": 273,
     "metadata": {},
     "output_type": "execute_result"
    }
   ],
   "source": [
    "nMotifs = gen_motifs(dna, 8)\n",
    "for i in range(30):\n",
    "    M = GibbsSampler(dna, 8, 5, 100)\n",
    "    if Score(M) < Score(nMotifs):\n",
    "         nMotifs = M\n",
    "    else:\n",
    "        bMotifs = nMotifs\n",
    "        \n",
    "        \n",
    "N = 100\n",
    "for i in range(N+1):\n",
    "    M = GibbsSampler(dna, 8, 5, 100)\n",
    "    if Score(M) < Score(bMotifs):\n",
    "         bMotifs = M\n",
    "    else:\n",
    "        bestMotifs = bMotifs\n",
    "        \n",
    "bMotifs"
   ]
  },
  {
   "cell_type": "code",
   "execution_count": 267,
   "metadata": {},
   "outputs": [],
   "source": [
    "dna = ['CGCCCCTCTCGGGGGTGTTCAGTAACCGGCCA',\n",
    "'GGGCGAGGTATGTGTAAGTGCCAAGGTGCCAG',\n",
    "'TAGTACCGAGACCGAAAGAAGTATACAGGCGT',\n",
    "'TAGATCAAGTTTCAGGTGCACGTCGGTGAACC',\n",
    "'AATCCACCAGCTCCACGTGCAATGTTGGCCTA']"
   ]
  },
  {
   "cell_type": "code",
   "execution_count": 195,
   "metadata": {},
   "outputs": [
    {
     "data": {
      "text/plain": [
       "['TGTTCAGT', 'TGTAAGTG', 'TACAGGCG', 'TGCACGTC', 'TGCAATGT']"
      ]
     },
     "execution_count": 195,
     "metadata": {},
     "output_type": "execute_result"
    }
   ],
   "source": [
    "GibbsSampler(dna, 8, 5, 1000)"
   ]
  },
  {
   "cell_type": "code",
   "execution_count": 178,
   "metadata": {},
   "outputs": [
    {
     "name": "stdout",
     "output_type": "stream",
     "text": [
      "0.11547056670832667\n",
      "0 0\n",
      "1 0.007838014369693011\n",
      "2 0.07054212932723711\n",
      "3 0.07315480078380145\n",
      "4 0.1045068582625735\n"
     ]
    },
    {
     "data": {
      "text/plain": [
       "'GAGGTATG'"
      ]
     },
     "execution_count": 178,
     "metadata": {},
     "output_type": "execute_result"
    }
   ],
   "source": [
    "dice = random.random()\n",
    "print(dice)\n",
    "for m in range(len(motif_prob)-1):\n",
    "    print(m, motif_prob[m])\n",
    "    new_motif = ''\n",
    "    if motif_prob[m+1] > dice :\n",
    "        new_motif = dna[1][m: m+8]\n",
    "        break\n",
    "     "
   ]
  },
  {
   "cell_type": "code",
   "execution_count": 284,
   "metadata": {},
   "outputs": [],
   "source": [
    "with open('dataset_163_4.txt') as f:\n",
    "    lines = f.readlines()\n",
    "    \n",
    "k, t, N = map(int, lines[0].split(\" \"))\n",
    "dna = []\n",
    "for i in range(1, len(lines)):\n",
    "    dna.append(lines[i])"
   ]
  },
  {
   "cell_type": "code",
   "execution_count": 285,
   "metadata": {},
   "outputs": [
    {
     "name": "stdout",
     "output_type": "stream",
     "text": [
      "GCTCACCTAATCATG\n",
      "ATTTTACGAATCAAC\n",
      "ATTCACGTGATCAAC\n",
      "GGTCACCGAATCAAG\n",
      "ATTCACCGAAGTTAC\n",
      "AACTACCGAATCAAC\n",
      "ATTCACTCTATCAAC\n",
      "ATTCAAGCAATCAAC\n",
      "ATTCACCGAATCTTA\n",
      "ATTCACCCCCTCAAC\n",
      "ATTCACCGGCCCAAC\n",
      "ATTAGTCGAATCAAC\n",
      "ATTCTATGAATCAAC\n",
      "GTTCACCGAATCATG\n",
      "ATTCACCGAGAAAAC\n",
      "TGCCACCGAATCAAC\n",
      "ATTCATGAAATCAAC\n",
      "ATTCACCGAATATGC\n",
      "ATATCCCGAATCAAC\n",
      "ATTCTGTGAATCAAC\n"
     ]
    }
   ],
   "source": [
    "nMotifs = gen_motifs(dna, k)\n",
    "for i in range(30):\n",
    "    M = GibbsSampler(dna, k, t, N)\n",
    "    if Score(M) < Score(nMotifs):\n",
    "         nMotifs = M\n",
    "    else:\n",
    "        bMotifs = nMotifs\n",
    "        \n",
    "N = 100\n",
    "for i in range(N+1):\n",
    "    M = GibbsSampler(dna, k, t, N)\n",
    "    if Score(M) < Score(bMotifs):\n",
    "         bMotifs = M\n",
    "    else:\n",
    "        bestMotifs = bMotifs\n",
    "        \n",
    "print ('\\n'.join(bestMotifs))"
   ]
  },
  {
   "cell_type": "code",
   "execution_count": 257,
   "metadata": {},
   "outputs": [
    {
     "data": {
      "text/plain": [
       "['TAACTCCAGAATTGATCTTCATACTAAAGCTGGGAGCAATGTTGAGAATAACCAAGAGCAAAAGTCTAGTGGTACGACACTAGCACTATCGAACCTGACCTGCGTCGTAGCCACATTTGTAAGTCTCAGTATCGAGCTGGGTGCTAACATGGTCTCGCACTATGTTGGTCACAGAAACCTCGGCAGCTGCGACGTGAGCCTAGTAGTAACATTCCCGGGTGGTATATGCGGTGATCCTAGTGGCCGCAGACAAGGGATATCACCTGAGGGGATCAGGGCGCCGTGCCCACGTGCTATTTGGCACGGCTAACTCCAGAATTGA\\n',\n",
       " 'TCTTCATACTAAAGCTGGGAGCAATGTTGAGAATAACCAAGAGCAAAAGTCTAGTGTTACCCTGAAAGACGGTACGACACTAGCACTATCGAACCTGACCTGCGTCGTAGCCACATTTGTAAGTCTCAGTATCGAGCTGGGTGCTAACATGGTCTCGCACTATGTTGGTCACAGAAACCTCGGCAGCTGCGACGTGAGCCTAGTAGTAACATTCCCGGGTGGTATATGCGGTGATCCTAGTGGCCGCAGACAAGGGATATCACCTGAGGGGATCAGGGCGCCGTGCCCACGTGCTATTTGGCACGGCTAACTCCAGAATTGA\\n',\n",
       " 'GCAGCAAACCCGCAATTGTCTCGTGCCTTTTACGATCACCAGACAGATAGAGAAGATTACCGGACTGACAAGTGAAATCCTGGCCGTAGTTAACCAGAAAGACGGCGACTGTATAAGCGCGCGCAAGTGCAATGGCGTACTGACCATACAGCCCTAAGTAACGTCGCTAAACCCTAACAGGGACCTGTATAGTTCAGTTTGGGACAGTCATAGTGAAGGGTCAGTCCCAGGGAAAAGAAAACATGCATAAAGCCGGGCCATTGTATTCGTTTATTAGGAAGAACACTACGCACCAGGAATGGGGACTCGGAAAATGTAGGAA\\n',\n",
       " 'GCTCCTTTAGGCGTCTGAGAATCGGCATAATCCGTGGACTTGAAGACACGCCACTAACCTAATGATTGGTGGAACGCTTTGCAGGAGGAGGAGGCTAACTCTCCCTGTTACGTGGACTAGCATGGTCCTCGCAGAATAGCCATCCTGTACTCCCGCTGAGCGAAGTTGAAAGACATTAACGATTGGAAGACCTTATCTATTACATTTCGTGTCATCAAAGGGTATTACGTGGGATGTAATCGGCCCTAAGCTACCATCCAATCCGGGTTGTGTTCCGCGGAGCTCGCTAACTCAACCCCAGGGTGCGAGCTGGGTCATACCT\\n',\n",
       " 'GAAATCGATATGCCGGTAAATAGGGTTCACGGGTTCTCTCGCTCTTAGCCTAGGCTGCTCGTTGCAAGCGAGGGAATTAATCTCTCACTATATCGTATATCTCTGGGATTAGACCAAGCATCACCTATTTACCATGGAGATCCGATTTACCCGCTGGGCAACCAGCGGGAAGGGGATTACCGGTTCTCGCGCCGCATGTAATACCTTCGTAGGGTGAATGCGTACCATACGCAAGTGGAGTTAACGCCGCGATGAAGTCAAGGAAGAGTAAGTTGAAAGATCTATTCACCGGAAAGTCGATATCATAACCGTCCAACATGGC\\n',\n",
       " 'TATCGTTACAAACTGATAGCCCGTAGTAGCAGTCCAGATCATTCGTTCCCACTGATCGAGGTTCGCCCCATGGTCCAGAGGCCCTATGAGTGGCATTTGCCCTTAAGTTAGTAGACGTGCGAAAGTTTCAACTGAAAGTCACATCTGTGGATACTGCCTTTCTCTGACTCTGGTTATGCGTCCACTAGTCCAAACTATTTCTGACCCGTGCTAGGCGTGTTTCCAGCGGGTCTAATAAAATCAGCGCATCCTTAGTGTTTCTGACATATAGAAGTCGCATTATGGTTCGAGGACTTTCAAACTCTTCTTTTAGACATAGCAG\\n',\n",
       " 'CCTGATCATCGAATGCAACAAAACCTCGGAACATAATGAGGCGGAATAGAGGGCGCTGGATACGGCAATGGCCGGGGCTGGGTAGCCCGACGAGGTGGTCGGGGGAATGTTAGACTAGGCGACCACTGTATGGTTGCCACTCGCACGCATGGGGGTTCGGAGGATAAACTCGCTAAACATCCGTCTGAGTCTCTTCTATCCATAGAAGTCAAACTTCGTAGAGTCGCAAACCTCCCCGCGGTTTAAGTCTCAAGACGATAAGGTTGCACATGAGGGGTACCCCTACTCATGCTGACGATATCTCCTTACACATAAGCATAGG\\n',\n",
       " 'AACATTCACCGGAATGCTGATTCGCTACAAGCCGCGCTATCTTTAAAGCGAAAGACGGATTCGTTTACTTCGTCCGCAAGCGGCGCCTCTGGAGTCTGATCCGCAACCCATTCTGCCCAGGAAGACTGTCGACATATTGGACCTCAGTACTCATCAACGACAGATGGCATCGGGCGTTATTTTCCCATGATTTATACCCACTTTAAGGGTCTCTCGTGCCTAAACGCACGATGCTATATGGACGTTGGGTCGTCATGGCCAGACTCCGTAAAAGTTAAACGGCGATTGGGCCTAGGTACTGTGCTCAATAAACTTGGCGATA\\n',\n",
       " 'TCCTTATGTACGTCCGTAAGGTAGTTGATAACAGCATCACGCAAAAGACTATCACACGTTGGCAATGGAAAAGGGTGGTATGCATATACCGCGTCTACTCCTTCACTAGGGATTCAATTGGTAGCGTTCTGGTAAGGACGAACGGGCGCGATGAGGGATCTCTCGGTTGCATTAGCAAGTAGGGGGCGCCGCTTAAGTTGAAACGGGACCTTCCCTAGCACGCGGATCGTGTAAGCTCTATGATGCAGATCTTATGTGTGTGCGGGGTCACGATGCTATCCCTCAAATTTCGCTCCGACACGCGTGACACCGAAAGAAGAGG\\n',\n",
       " 'TATAAGAAAAGACCTTCTTAAGCGAAAAGACGCCTGTTGGATCGGGTGTTTTTTCTCAAAATCAATATGGAGATGCATGATTGAGCCGAGATATAACCTGGGTATCGAGATGTTTAAAGCCGTGAATCAGCTATTCGCGGAGCAACAACGGTTCTGAACATACTTAAAAGAGACCTCAGCATCCCGTCCTCTCACAGAGTAGAGATTGTTTTCTTTGACTATTATTTGTCCGAAAAACCACTTGGAGTATGTGAGTTATCCGAGCCCAGCAATCCTTATACACTGTAACCGGGTATACGCTAAGGGTTCCGCGTGTTCGACC\\n',\n",
       " 'AAAAAACAGCCACGAGTTGCGTCTGAATATATCATTCATCCGCACGTGCCTAGTTAAATACGTCCCAGACATTCCTGTCCGTGTTAAGTTGATCAACGCTTTGCAGTAAGGACAAACAAATTGCGAGTTCTCCAATTCCTACCGCAGCCGACCACATACGAGTAGCCAAAGCCGCTCTGTGGAAATGCACCCATATTCCTAGCTAGGAACGTAGCTACCTGGCTCTACTTAGAGTGTAACTCCATAACGACTTGACTCGCTAGTCAATAAGTCAGAACCCAGTGCAGCAGGCTATATTGCCTCTGCAGGAACAAACAGCCTC\\n',\n",
       " 'AGGCTCTGACACACTCAAACCCCACAACCAGTTGTCTGAGCATCTTCAGACCGCCCCTATTTTAAGTTGAAAGCTTGCGCTGGATCACCGCCCGTAGTGAGTTCCTACAATCGCACAGGACCTACAAAGACGCTTGGCCGGTACCTAGGCCTTTGGCTAATCCTTCAGCCGGCGGCGTCAAAACGCGGCGGTCGCGTAAGAGCACATGATAGATCGAGGGCGCAGCCGGCGCATTCGTCAGACCGCTCCAGGTACATTAAGACCCAATCCATCGTGGCAGCACGAACTCTGCCGATAAAAGCGACTCCACCCTTGGCAAGGC\\n',\n",
       " 'CTGTACATCTCCAGACTGTTAGATAGTCTTCTGGAGAACCGGGTTGAGAGCCTTCTTATTCATGGTTATGGCCTTATGCTAGCTAAGAACATGCCCGAGTGGCGCGACCTGCGTTGGCATCGTACAATCGGGGTTCCTGGCGCCACGCAACGTGACTTGCGTGGCATTCTCTTCTATGGACAGAAAGTGTCCATGGCAGCCCGCGTCAAGTCCCATGGCACCCGTGGCAGTTTGATTGTGGGTGAGTGTAGTGACGTAAGGATGTAGCGGCGTTATTAAAGCTGATGGCGTTGAAAGACGTGAAATCCCGATAAGTGCATGT\\n',\n",
       " 'GATAGATTCATTACAAGACACTGTCGAGGAGACGGAGATTTCCGCTGCAAGGGGATCAAAGTCCATTGGCAAGATCCCACCGACCCTTATGGGCTGTTAAGTTGCCGGACGGAAGAATCCCAAGCCAAGCCGCGTAGCCGGTGGGACTGCATTACCAAACTTGGTTAAATTGATGGAGGGACTCTATAACTGTAACGGACCGGCTGTGTGAGCCTCAGCAGACGAGTGTCAGCAATGTCAGCAAACAGAGATATATGGTTCTTTAGCGATGTAGTAGTCACAAGGACACTTGAACACCCAGCGCGAGGCGAACTTCCACACT\\n',\n",
       " 'TTAGCGTTATCATGAAAGACGGCACTTTGTCGACGCACGAGGTAAACGTACAACAGATGCACGACGGAGGTTGGGAGAGATTCCGTAGCCAGAATGATTCACCGGAATTTCTAAATAGAGTTGGCGTCGCTTTGTATCAAAAAAATAGGTTGTGATCTCTTGATGGCTTGCAAAACAGTATCTTCCTTCGAATCGTCACACAGCATGGGAACAACAGTCACTGTCAAACGATAACAGGCATCAGAGACCGCGTCGAACCATTCGGGAACGACTAATCTCCTGTTAACACGACCCGGATTCTGGTGTCTACCCTTAACCTATC\\n',\n",
       " 'CGCAGCTACGTGGCCCCGAAATATAACCGTGGTAACGCAGTTCGGGAGGTATCCGCGACGCAACGCAGTCTTAAGTTGAACACCGGCGTCTTACACGGCGAACTCGCGCATATTGGGGGGCCAGTAACACATAGAGTCCATCTCAGGGGGAAGCCAAAGTGACAATCATAGGGCAATGTATATAATGGTAAGGACATTATACCTAACCGTCGCCCTAATTACATGTTCTGTACGTCTGCAACTTAATGTTATGTGAGTTAAACGTTGAAAAGATGTCTCACTCCTTTACCCTCATCTGAACCACGCATGGATTGGCGAGTAA\\n',\n",
       " 'ATAGGCGAGTAGTAGGGCTGTTAGATCTCTACTTGAAATTCTCTATTCCAGGTTATAAGGCCTTAATCCAGGAGCCTTTGCCTTACGGTTCTTGGGCGGAGCTAGATGGCAGGTCTGAATGGTTTCGGACCTCCCCCTTCGGCTCTGTTAGCGGAAGCTTCGCCTATGGGAGTTGAAAGACGCAGGGCCGGATCAGGATCTGAGGACATACGACGTCCAGTCTTCTCTTTGCCTTGTTGATTTGGTGAACTGTGCGACTCGTAGATACGGTATCCGGTCCCCCTGAGCACTTAACTAAATCAGCTGGCAGGGCACAAGGACG\\n',\n",
       " 'ACCGACAACTCGCCGAGACAACCGTACCGGGCATTCGGAAACCTCTCGCTATGTCGGCACTGGGGTGAGACAAAGCTACAGAAATAGAACTTGCTATTCGTAACCCTCTTAAGTCTCAAGACGATGTGTGGTGCTCATCGCGGTTGCAGAATATCCCTACCTTGGACCCCCCTAAAATAGGGTTCTCTCCTTAATAGGATGGTCCGATGGATGGGGTCCGTAGACAATGTTCATAACTCCCTTAAGGTGATCAAGGCGCTCGCGTCTATAGCGTCAGTGTCCGGAGAGTCCTACAGCGATATCTCCTCGGCTTTTGGATGTT\\n',\n",
       " 'TCTAAGCACCGATGGCAGGCAAGCCCTCTGTCTCCCATAACCGTGCGCAAGCGACCACCGTTAAGCCCAAAGACGGATGCAATTACCCGCCATTGGCCCAACGCTTCCTTCGTAGGCAGTATTGAGGACTAATATCACAGAACGAATGTTTTATACCACTGCAGAACCAGATACTAAGGTTTATTAAGGACTTCACTCACGTCGGCGTACTCGTCAAGACCGTCTTCCACAGTGGGCGAGAACTCCTCGTCCTCTACCCACATATTGGTGTGTCCTGCCTTGAAATTCGGGAATAACTCAAGACCACCTGAATTGCACGGGA\\n',\n",
       " 'CTCGGGTTTGCTGAAGCCGTTGGCCAAAAACCGGGGTAGTACAAGAGGGGGGTCTACGACACCCAGAAATAAGAGTATGGAGATCACCGGAAGCGAGCGGCCGGCCGAGTAATGAACACGTGCTTCCGTGGGGGTCGTCTAACCCGCTAAGGAGAACGGTTCTGTCTTCGTTTGAAAGACGGGTCCTGGAGAGCGCGAAGTGAACTTTTTAACCGTAAAGCCCGCACGCGCACATGCACAATGGTCCTCTCGAAGACGTTGTAATAGAATACAACTTGTACTAAGGGGATCTTTACACTGGGGGGGATGCCATTATCGTAGT\\n']"
      ]
     },
     "execution_count": 257,
     "metadata": {},
     "output_type": "execute_result"
    }
   ],
   "source": [
    "dna"
   ]
  },
  {
   "cell_type": "code",
   "execution_count": null,
   "metadata": {},
   "outputs": [],
   "source": []
  }
 ],
 "metadata": {
  "kernelspec": {
   "display_name": "Python [conda env:PythonData] *",
   "language": "python",
   "name": "conda-env-PythonData-py"
  },
  "language_info": {
   "codemirror_mode": {
    "name": "ipython",
    "version": 3
   },
   "file_extension": ".py",
   "mimetype": "text/x-python",
   "name": "python",
   "nbconvert_exporter": "python",
   "pygments_lexer": "ipython3",
   "version": "3.6.8"
  }
 },
 "nbformat": 4,
 "nbformat_minor": 2
}
