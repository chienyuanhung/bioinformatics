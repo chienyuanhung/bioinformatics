{
 "cells": [
  {
   "cell_type": "code",
   "execution_count": 146,
   "metadata": {},
   "outputs": [],
   "source": [
    "# find # of pattern occurance in the text\n",
    "\n",
    "def PatternCount(text, pattern):\n",
    "    count = 0\n",
    "    a = len(text)\n",
    "    b = len(pattern)\n",
    "    for i in range(a-b+1):\n",
    "        if text[i : i+b] == pattern:\n",
    "            count += 1\n",
    "            \n",
    "    return count\n",
    "    \n"
   ]
  },
  {
   "cell_type": "code",
   "execution_count": 147,
   "metadata": {},
   "outputs": [
    {
     "data": {
      "text/plain": [
       "4"
      ]
     },
     "execution_count": 147,
     "metadata": {},
     "output_type": "execute_result"
    }
   ],
   "source": [
    "PatternCount('ACTGTACGATGATGTGTGTCAAAG', 'TGT')"
   ]
  },
  {
   "cell_type": "code",
   "execution_count": 148,
   "metadata": {},
   "outputs": [],
   "source": [
    "# the the most frequent k-mer in a sequence\n",
    "\n",
    "def FrequentWords(text, k):\n",
    "    frequent_pattern = []  \n",
    "    a = len(text)\n",
    "    pattern_set = [''] * (a-k +1)\n",
    "    count = [0] * (a-k +1)\n",
    "    for i in range(a-k+1):\n",
    "        pattern = text[i: i+k]\n",
    "        if pattern not in pattern_set:\n",
    "            count[i] += 1\n",
    "            pattern_set[i] = pattern\n",
    "        else:\n",
    "            b = pattern_set.index(pattern)\n",
    "            count[b] += 1\n",
    "    c_max = max(count)        \n",
    "    for i in range(a-k+1):\n",
    "        if count[i] == c_max:\n",
    "            frequent_pattern.append(pattern_set[i])\n",
    "    return frequent_pattern\n",
    "         \n",
    "        \n",
    "        "
   ]
  },
  {
   "cell_type": "code",
   "execution_count": 149,
   "metadata": {},
   "outputs": [
    {
     "data": {
      "text/plain": [
       "['GTG']"
      ]
     },
     "execution_count": 149,
     "metadata": {},
     "output_type": "execute_result"
    }
   ],
   "source": [
    "FrequentWords('TAAACGTGAGAGAAACGTGCTGATTACACTTGTTCGTGTGGTAT', 3)"
   ]
  },
  {
   "cell_type": "code",
   "execution_count": 46,
   "metadata": {},
   "outputs": [],
   "source": [
    "# find the reverse complement to a sequence\n",
    "\n",
    "def ReverseComplement(Pattern):\n",
    "    a = len(Pattern)\n",
    "    b = ['']*a\n",
    "    c = ''\n",
    "    for i in range(a):\n",
    "        if Pattern[i] == 'A':\n",
    "            b[a-i-1] = 'T'\n",
    "        elif Pattern[i] == 'T':\n",
    "            b[a-i-1] = 'A'\n",
    "        elif Pattern[i] == 'G':\n",
    "            b[a-i-1] = 'C'\n",
    "        elif Pattern[i] == 'C':\n",
    "            b[a-i-1] = 'G'\n",
    "    return c.join(b)"
   ]
  },
  {
   "cell_type": "code",
   "execution_count": 86,
   "metadata": {},
   "outputs": [],
   "source": [
    "# find the position in a sequence where the pattern shown\n",
    "\n",
    "def PatternMatching(Pattern, Genome):\n",
    "    a = len(Genome)\n",
    "    b = len(Pattern)\n",
    "    c_list = []\n",
    "    for i in range(a-b+1):\n",
    "        if Genome[i : i+b] == Pattern:\n",
    "            c_list.append(i)\n",
    "    return c_list"
   ]
  },
  {
   "cell_type": "code",
   "execution_count": 150,
   "metadata": {},
   "outputs": [
    {
     "data": {
      "text/plain": [
       "[0, 1, 12]"
      ]
     },
     "execution_count": 150,
     "metadata": {},
     "output_type": "execute_result"
    }
   ],
   "source": [
    "PatternMatching('AA', 'AAACATAGGATCAAC')"
   ]
  },
  {
   "cell_type": "code",
   "execution_count": 154,
   "metadata": {},
   "outputs": [
    {
     "name": "stdout",
     "output_type": "stream",
     "text": [
      "60039 98409 129189 152283 152354 152411 163207 197028 200160 357976 376771 392723 532935 600085 622755 1065555\n"
     ]
    }
   ],
   "source": [
    "c_list = PatternMatching(a, data)\n",
    "print(*c_list, sep=' ')\n"
   ]
  },
  {
   "cell_type": "code",
   "execution_count": 89,
   "metadata": {},
   "outputs": [],
   "source": [
    "# \n",
    "\n",
    "def ClumpFinding(genome, k, L, t):\n",
    "    a = len(genome)\n",
    "    f_pattern = {}\n",
    "    for i in range(a-L+1):\n",
    "        counts = {}\n",
    "        for j in range(L-k+1):\n",
    "            kmer = genome[i+j:i+j+k]\n",
    "            if kmer in counts:\n",
    "                counts[kmer] += 1\n",
    "            else:\n",
    "                counts[kmer] = 1\n",
    "        for i in counts:\n",
    "            if counts[i] >= t:\n",
    "                f_pattern[i] = counts[i]\n",
    "    frequency_pattern = []\n",
    "    for i in f_pattern.keys():\n",
    "        frequency_pattern.append(i)\n",
    "    return frequency_pattern\n",
    "         \n",
    "    "
   ]
  },
  {
   "cell_type": "code",
   "execution_count": 94,
   "metadata": {},
   "outputs": [],
   "source": [
    "with open('E_coli.txt', 'r') as file:\n",
    "    data = file.read()"
   ]
  },
  {
   "cell_type": "code",
   "execution_count": 98,
   "metadata": {},
   "outputs": [],
   "source": [
    "nine_mer = ClumpFinding(data, 9, 500, 3)\n",
    "len(nine_mer)"
   ]
  },
  {
   "cell_type": "code",
   "execution_count": 118,
   "metadata": {},
   "outputs": [],
   "source": [
    "def ComputingFrequencies(text, k):\n",
    "    FrequencyArray = [0]* (4**k)\n",
    "    a = len(text)\n",
    "    for i in range(a-k+1):\n",
    "        pattern = text[i:i+k]\n",
    "        j = 0\n",
    "        for m in range(k):\n",
    "            if pattern[m] == 'A':\n",
    "                j += 0 *(4**(k-m-1))\n",
    "            elif pattern[m] == 'C':\n",
    "                j += 1 *(4**(k-m-1))\n",
    "            elif pattern[m] == 'G':\n",
    "                j += 2 *(4**(k-m-1))\n",
    "            elif pattern[m] == 'T':\n",
    "                j += 3 *(4**(k-m-1))\n",
    "        FrequencyArray[j] += 1\n",
    "    return FrequencyArray\n",
    "        "
   ]
  },
  {
   "cell_type": "code",
   "execution_count": 126,
   "metadata": {},
   "outputs": [],
   "source": [
    "def PatternToNumber(pattern):\n",
    "    if pattern == '':\n",
    "        return 0\n",
    "    symbol = pattern[-1]\n",
    "    if symbol == 'A':\n",
    "        j = 0\n",
    "    elif symbol == 'C':\n",
    "        j = 1\n",
    "    elif symbol == 'G':\n",
    "        j = 2\n",
    "    elif symbol == 'T':\n",
    "        j = 3\n",
    "    Prefix = pattern[:-1]\n",
    "    return 4*PatternToNumber(Prefix) + j\n",
    "        \n",
    "    "
   ]
  },
  {
   "cell_type": "code",
   "execution_count": 142,
   "metadata": {},
   "outputs": [],
   "source": [
    "def NumberToPattern(index, k):\n",
    "    if k ==1:\n",
    "        if index == 0:\n",
    "            return 'A'\n",
    "        elif index == 1:\n",
    "            return 'C'\n",
    "        elif index == 2:\n",
    "            return 'G'\n",
    "        elif index == 3:\n",
    "            return 'T'\n",
    "    prefixIndex = int(index/4)\n",
    "    r = index%4\n",
    "    if r == 0:\n",
    "        j = 'A'\n",
    "    elif r == 1:\n",
    "        j = 'C'\n",
    "    elif r == 2:\n",
    "        j = 'G'\n",
    "    elif r == 3:\n",
    "        j = 'T'\n",
    "    PrefixPattern = NumberToPattern(prefixIndex, k-1)\n",
    "    return PrefixPattern+j"
   ]
  },
  {
   "cell_type": "code",
   "execution_count": 144,
   "metadata": {},
   "outputs": [
    {
     "data": {
      "text/plain": [
       "'ACGGTAAG'"
      ]
     },
     "execution_count": 144,
     "metadata": {},
     "output_type": "execute_result"
    }
   ],
   "source": [
    "NumberToPattern(6850, 8)"
   ]
  },
  {
   "cell_type": "code",
   "execution_count": null,
   "metadata": {},
   "outputs": [],
   "source": [
    "\n",
    "\n"
   ]
  }
 ],
 "metadata": {
  "kernelspec": {
   "display_name": "Python [conda env:PythonData] *",
   "language": "python",
   "name": "conda-env-PythonData-py"
  },
  "language_info": {
   "codemirror_mode": {
    "name": "ipython",
    "version": 3
   },
   "file_extension": ".py",
   "mimetype": "text/x-python",
   "name": "python",
   "nbconvert_exporter": "python",
   "pygments_lexer": "ipython3",
   "version": "3.6.8"
  }
 },
 "nbformat": 4,
 "nbformat_minor": 2
}
