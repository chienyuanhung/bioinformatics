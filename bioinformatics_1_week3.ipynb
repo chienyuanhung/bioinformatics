{
 "cells": [
  {
   "cell_type": "code",
   "execution_count": 73,
   "metadata": {},
   "outputs": [],
   "source": [
    "# using functions from bioinfomatics_1_weeks2\n",
    "\n",
    "# HammingDistance\n",
    "\n",
    "def HammingDistance(p, q):\n",
    "    a = len(p)\n",
    "    h_dist = 0\n",
    "    for i in range(a):\n",
    "        if p[i] != q[i]:\n",
    "            h_dist += 1\n",
    "    return h_dist \n",
    "\n",
    "# find the sequence with at most d mismatches with Pattern\n",
    "def Neighbors(Pattern, d):\n",
    "    if d == 0:\n",
    "        return [Pattern]\n",
    "    a = len(Pattern)\n",
    "    dna_set = ['A', 'C', 'G', 'T']\n",
    "    if a == 1:\n",
    "        return ['A', 'C', 'G', 'T']\n",
    "    Neighbor = []\n",
    "    new_patttern = Pattern[1:]\n",
    "    suffix_neighbors = Neighbors(new_patttern, d)\n",
    "    for i in suffix_neighbors: \n",
    "        if HammingDistance(new_patttern, i) < d:\n",
    "            for j in dna_set:\n",
    "                Neighbor.append(j+i)\n",
    "        else:\n",
    "            Neighbor.append(Pattern[0]+i)\n",
    "    return Neighbor"
   ]
  },
  {
   "cell_type": "code",
   "execution_count": 64,
   "metadata": {},
   "outputs": [],
   "source": [
    "def MotifEnumeration(dna, k, d):\n",
    "    fre_words = []\n",
    "    for i in dna:\n",
    "        a = len(i)\n",
    "        words = []\n",
    "        count = {}\n",
    "        for j in range(a-k+1):\n",
    "            sub_seq = i[j:j+k]\n",
    "            neighbors = Neighbors(sub_seq, d)\n",
    "            for m in neighbors:\n",
    "                if m in count:\n",
    "                    count[m] +=1\n",
    "                else:\n",
    "                    count[m] = 1\n",
    "        for n in count.keys():\n",
    "            words.append(n)\n",
    "        fre_words.append(words)\n",
    "    fre_motif = fre_words[0]\n",
    "    for p in fre_words[1:]:\n",
    "        common_motif = fre_motif\n",
    "        fre_motif = []\n",
    "        for q in p:\n",
    "            if q in common_motif:\n",
    "                fre_motif.append(q)\n",
    "    if len(fre_motif) == 0:\n",
    "        return \"nothing\"\n",
    "    else:\n",
    "        return fre_motif\n",
    "\n"
   ]
  },
  {
   "cell_type": "code",
   "execution_count": null,
   "metadata": {},
   "outputs": [],
   "source": [
    "dna = ['']"
   ]
  },
  {
   "cell_type": "code",
   "execution_count": 93,
   "metadata": {},
   "outputs": [
    {
     "name": "stdout",
     "output_type": "stream",
     "text": [
      "GTAGA GTAGC GTAGG GTAGT  \n"
     ]
    }
   ],
   "source": [
    "dna = ['GTAGCCCTATACCCTACAATCCCAG', 'CGGCCCACACGTAGGCTGCTCCTCA', 'CGGCCTGTTCACTCCGGGAAGTAGG', 'CTTGGGCCTTATAAGCAATAGTAGA', 'GGCACGACGCGATGAGTAGCTCAAA', \n",
    "       'TAAACCATCATACTCGTAGCCAACC']\n",
    "\n",
    "c_list = MotifEnumeration(dna, 5, 1)\n",
    "print(*c_list, \" \")\n",
    "\n"
   ]
  },
  {
   "cell_type": "code",
   "execution_count": 94,
   "metadata": {},
   "outputs": [],
   "source": [
    "import math\n",
    "def DistanceBetweenPatternAndStrings(pattern, dna):\n",
    "    k = len(pattern)\n",
    "    d = 0\n",
    "    for i in dna:\n",
    "        a = len(i)\n",
    "        print(a)\n",
    "        hd = math.inf\n",
    "        for j in range(a-k+1):\n",
    "            pattern2 = i[j:j+k]\n",
    "            if hd > HammingDistance(pattern, pattern2):\n",
    "                hd = HammingDistance(pattern, pattern2)        \n",
    "        d = d + hd\n",
    "        print(d)\n",
    "    return d\n",
    "        \n",
    "    "
   ]
  },
  {
   "cell_type": "code",
   "execution_count": 74,
   "metadata": {},
   "outputs": [
    {
     "data": {
      "text/plain": [
       "2"
      ]
     },
     "execution_count": 74,
     "metadata": {},
     "output_type": "execute_result"
    }
   ],
   "source": [
    "HammingDistance('AAA', 'TTA')"
   ]
  },
  {
   "cell_type": "code",
   "execution_count": 76,
   "metadata": {},
   "outputs": [
    {
     "data": {
      "text/plain": [
       "True"
      ]
     },
     "execution_count": 76,
     "metadata": {},
     "output_type": "execute_result"
    }
   ],
   "source": [
    "math.inf > HammingDistance('AAA', 'TTA')"
   ]
  },
  {
   "cell_type": "code",
   "execution_count": null,
   "metadata": {},
   "outputs": [],
   "source": []
  }
 ],
 "metadata": {
  "kernelspec": {
   "display_name": "Python [conda env:PythonData] *",
   "language": "python",
   "name": "conda-env-PythonData-py"
  },
  "language_info": {
   "codemirror_mode": {
    "name": "ipython",
    "version": 3
   },
   "file_extension": ".py",
   "mimetype": "text/x-python",
   "name": "python",
   "nbconvert_exporter": "python",
   "pygments_lexer": "ipython3",
   "version": "3.6.8"
  }
 },
 "nbformat": 4,
 "nbformat_minor": 2
}
